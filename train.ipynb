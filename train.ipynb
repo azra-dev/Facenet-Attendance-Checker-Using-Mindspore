{
 "cells": [
  {
   "cell_type": "code",
   "execution_count": 1,
   "metadata": {},
   "outputs": [
    {
     "name": "stdout",
     "output_type": "stream",
     "text": [
      "WARNING:tensorflow:From C:\\Users\\Azra\\AppData\\Local\\Temp\\ipykernel_13852\\1349565527.py:13: The name tf.GraphDef is deprecated. Please use tf.compat.v1.GraphDef instead.\n",
      "\n"
     ]
    }
   ],
   "source": [
    "import tensorflow as tf\n",
    "import cv2\n",
    "import numpy as np\n",
    "import os\n",
    "from sklearn.svm import SVC\n",
    "from sklearn.metrics import accuracy_score\n",
    "\n",
    "# Load the pretrained FaceNet model\n",
    "model_path = 'models/20180402-114759.pb'\n",
    "training_path = 'dataset/train_eq'\n",
    "validation_path = 'dataset/val_eq'\n",
    "with tf.io.gfile.GFile(model_path, 'rb') as f:\n",
    "    graph_def = tf.compat.v1.GraphDef()\n",
    "    graph_def.ParseFromString(f.read())\n",
    "    with tf.Graph().as_default() as graph:\n",
    "        tf.import_graph_def(graph_def, name='')"
   ]
  },
  {
   "cell_type": "code",
   "execution_count": 2,
   "metadata": {},
   "outputs": [],
   "source": [
    "# Functions\n",
    "input_tensor = graph.get_tensor_by_name('input:0')\n",
    "output_tensor = graph.get_tensor_by_name('embeddings:0')\n",
    "\n",
    "def preprocess_image(image_path):\n",
    "    img = cv2.imread(image_path)\n",
    "    img = cv2.resize(img, (160, 160))\n",
    "    img = img / 255.0  # Normalize to [0, 1]\n",
    "    return img\n",
    "\n",
    "def generate_embeddings(image_paths):\n",
    "    embeddings = []\n",
    "    with tf.compat.v1.Session(graph=graph) as sess:\n",
    "        for image_path in image_paths:\n",
    "            img = preprocess_image(image_path)\n",
    "            img = np.expand_dims(img, axis=0) \n",
    "            \n",
    "            feed_dict = {\n",
    "                input_tensor: img,\n",
    "            }\n",
    "            \n",
    "            # placeholder\n",
    "            for op in graph.get_operations():\n",
    "                if op.type == 'Placeholder' and 'phase_train' in op.name:\n",
    "                    feed_dict[op.outputs[0]] = False\n",
    "            \n",
    "            emb = sess.run(output_tensor, feed_dict=feed_dict)\n",
    "            embeddings.append(emb)\n",
    "    return np.vstack(embeddings)\n",
    "\n",
    "def generate_labels(dataset_path):\n",
    "    labels = []\n",
    "    image_paths = []\n",
    "    label_map = {}  # iter map\n",
    "    current_label = 0\n",
    "\n",
    "    for person_folder in os.listdir(dataset_path):\n",
    "        person_folder_path = os.path.join(dataset_path, person_folder)\n",
    "        if os.path.isdir(person_folder_path):\n",
    "            if person_folder not in label_map:\n",
    "                label_map[person_folder] = current_label\n",
    "                current_label += 1\n",
    "            \n",
    "            for image_name in os.listdir(person_folder_path):\n",
    "                image_path = os.path.join(person_folder_path, image_name)\n",
    "                image_paths.append(image_path)\n",
    "                labels.append(label_map[person_folder])\n",
    "    \n",
    "    return image_paths, labels, label_map"
   ]
  },
  {
   "cell_type": "code",
   "execution_count": null,
   "metadata": {},
   "outputs": [],
   "source": [
    "# Generate Labels\n",
    "train_image_paths, train_labels, train_label_map = generate_labels(training_path)\n",
    "val_image_paths, val_labels, val_label_map = generate_labels(validation_path)\n",
    "\n",
    "# Generate Embedding\n",
    "train_embeddings = generate_embeddings(train_image_paths)\n",
    "val_embeddings = generate_embeddings(val_image_paths)"
   ]
  },
  {
   "cell_type": "code",
   "execution_count": null,
   "metadata": {},
   "outputs": [],
   "source": [
    "# Training\n",
    "classifier = SVC(kernel='linear')\n",
    "classifier.fit(train_embeddings, train_labels)"
   ]
  },
  {
   "cell_type": "code",
   "execution_count": null,
   "metadata": {},
   "outputs": [],
   "source": [
    "# Validating\n",
    "val_predictions = classifier.predict(val_embeddings)\n",
    "accuracy = accuracy_score(val_labels, val_predictions)\n",
    "print(f'Validation accuracy: {accuracy}')"
   ]
  },
  {
   "cell_type": "code",
   "execution_count": null,
   "metadata": {},
   "outputs": [],
   "source": [
    "# Assuming `model` is your tf.keras Model\n",
    "model.save('path_to_save_model/my_model.h5')  # Save the model in HDF5 format\n",
    "\n"
   ]
  }
 ],
 "metadata": {
  "kernelspec": {
   "display_name": "mindspore",
   "language": "python",
   "name": "python3"
  },
  "language_info": {
   "codemirror_mode": {
    "name": "ipython",
    "version": 3
   },
   "file_extension": ".py",
   "mimetype": "text/x-python",
   "name": "python",
   "nbconvert_exporter": "python",
   "pygments_lexer": "ipython3",
   "version": "3.9.13"
  }
 },
 "nbformat": 4,
 "nbformat_minor": 2
}
