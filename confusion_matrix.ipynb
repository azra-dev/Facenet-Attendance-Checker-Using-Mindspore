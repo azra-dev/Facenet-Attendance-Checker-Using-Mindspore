{
 "cells": [
  {
   "cell_type": "code",
   "execution_count": 5,
   "metadata": {},
   "outputs": [
    {
     "name": "stdout",
     "output_type": "stream",
     "text": [
      "Confusion Matrix:\n",
      "[[49  0  6  0  0  0  0  0  0  0 15]\n",
      " [ 0 23  0  0  0  0  0  0  0  9 38]\n",
      " [ 1  0 44  0  0  0  1  0  0  0 24]\n",
      " [ 0  0  5 47  0  0  0  0  0  0 18]\n",
      " [ 0  0  4  0 29  0  0  0  0  0 37]\n",
      " [ 2  0  4  0  0 54  2  1  0  0  7]\n",
      " [ 0  0  4  0  0  0 45  0  0  0 21]\n",
      " [ 0  0  0  0  0  0  0 58  0  0 12]\n",
      " [ 1  0  1  0  0  0  0  0 45  0 23]\n",
      " [ 0  0  1  0  0  0  0  0  0 54 15]\n",
      " [ 0  0  0  0  0  0  0  0  0  0  0]]\n",
      "\n",
      "Metrics:\n",
      "Accuracy: 0.6400\n",
      "Precision: 0.9340\n",
      "Recall: 0.6400\n",
      "F1 Score: 0.7441\n"
     ]
    },
    {
     "name": "stderr",
     "output_type": "stream",
     "text": [
      "c:\\Users\\Azra\\.vscode\\venv\\project\\lib\\site-packages\\sklearn\\metrics\\_classification.py:1318: UndefinedMetricWarning: Recall is ill-defined and being set to 0.0 in labels with no true samples. Use `zero_division` parameter to control this behavior.\n",
      "  _warn_prf(average, modifier, msg_start, len(result))\n"
     ]
    }
   ],
   "source": [
    "import numpy as np\n",
    "import pandas as pd\n",
    "from sklearn.metrics import accuracy_score, precision_score, recall_score, f1_score\n",
    "\n",
    "def load_confusion_matrix(csv_path):\n",
    "    \"\"\"Load confusion matrix from a CSV file.\"\"\"\n",
    "    return pd.read_csv(csv_path, header=None).values\n",
    "\n",
    "def calculate_metrics(conf_matrix):\n",
    "    \"\"\"Calculate accuracy, precision, recall, and F1 score from a confusion matrix.\"\"\"\n",
    "    # Extract true labels and predictions\n",
    "    true_labels = []\n",
    "    predicted_labels = []\n",
    "    for i in range(conf_matrix.shape[0]):\n",
    "        for j in range(conf_matrix.shape[1]):\n",
    "            true_labels.extend([i] * conf_matrix[i, j])\n",
    "            predicted_labels.extend([j] * conf_matrix[i, j])\n",
    "\n",
    "    # Calculate metrics\n",
    "    accuracy = accuracy_score(true_labels, predicted_labels)\n",
    "    precision = precision_score(true_labels, predicted_labels, average='weighted')\n",
    "    recall = recall_score(true_labels, predicted_labels, average='weighted')\n",
    "    f1 = f1_score(true_labels, predicted_labels, average='weighted')\n",
    "\n",
    "    return accuracy, precision, recall, f1\n",
    "\n",
    "\n",
    "# Path to the CSV file containing the confusion matrix\n",
    "csv_path = 'confusion_matrix_results.csv'\n",
    "\n",
    "# Load the confusion matrix\n",
    "conf_matrix = load_confusion_matrix(csv_path)\n",
    "\n",
    "# Calculate the metrics\n",
    "accuracy, precision, recall, f1 = calculate_metrics(conf_matrix)\n",
    "\n",
    "# Print the results\n",
    "print(\"Confusion Matrix:\")\n",
    "print(conf_matrix)\n",
    "print(\"\\nMetrics:\")\n",
    "print(f\"Accuracy: {accuracy:.4f}\")\n",
    "print(f\"Precision: {precision:.4f}\")\n",
    "print(f\"Recall: {recall:.4f}\")\n",
    "print(f\"F1 Score: {f1:.4f}\")\n",
    "\n",
    "\n"
   ]
  }
 ],
 "metadata": {
  "kernelspec": {
   "display_name": "project",
   "language": "python",
   "name": "python3"
  },
  "language_info": {
   "codemirror_mode": {
    "name": "ipython",
    "version": 3
   },
   "file_extension": ".py",
   "mimetype": "text/x-python",
   "name": "python",
   "nbconvert_exporter": "python",
   "pygments_lexer": "ipython3",
   "version": "3.7.9"
  }
 },
 "nbformat": 4,
 "nbformat_minor": 2
}
